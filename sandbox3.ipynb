{
 "cells": [
  {
   "cell_type": "code",
   "execution_count": 1,
   "metadata": {},
   "outputs": [
    {
     "data": {
      "text/plain": [
       "\u001b[36mpath\u001b[39m: \u001b[32mString\u001b[39m = \u001b[32m\"/home/kunmok/Git/chisel-bootcamp/source/load-ivy.sc\"\u001b[39m"
      ]
     },
     "execution_count": 1,
     "metadata": {},
     "output_type": "execute_result"
    }
   ],
   "source": [
    "val path = System.getProperty(\"user.dir\") + \"/source/load-ivy.sc\"\n",
    "interp.load.module(ammonite.ops.Path(java.nio.file.FileSystems.getDefault().getPath(path)))"
   ]
  },
  {
   "cell_type": "code",
   "execution_count": 2,
   "metadata": {},
   "outputs": [
    {
     "data": {
      "text/plain": [
       "\u001b[32mimport \u001b[39m\u001b[36mchisel3._\n",
       "\u001b[39m\n",
       "\u001b[32mimport \u001b[39m\u001b[36mchisel3.util._\n",
       "\u001b[39m\n",
       "\u001b[32mimport \u001b[39m\u001b[36mchisel3.iotesters.{ChiselFlatSpec, Driver, PeekPokeTester}\u001b[39m"
      ]
     },
     "execution_count": 2,
     "metadata": {},
     "output_type": "execute_result"
    }
   ],
   "source": [
    "import chisel3._\n",
    "import chisel3.util._\n",
    "import chisel3.iotesters.{ChiselFlatSpec, Driver, PeekPokeTester}"
   ]
  },
  {
   "cell_type": "code",
   "execution_count": 3,
   "metadata": {},
   "outputs": [
    {
     "name": "stdout",
     "output_type": "stream",
     "text": [
      "[\u001b[35minfo\u001b[0m] [0.003] Elaborating design...\n",
      "[\u001b[35minfo\u001b[0m] [0.238] Done elaborating.\n",
      "Total FIRRTL Compile Time: 347.1 ms\n",
      "Total FIRRTL Compile Time: 36.1 ms\n",
      "End of dependency graph\n",
      "Circuit state created\n",
      "[\u001b[35minfo\u001b[0m] [0.003] SEED 1540973766062\n",
      "test cmd2WrapperHelperMyOperators Success: 9 tests passed in 8 cycles taking 0.036103 seconds\n",
      "[\u001b[35minfo\u001b[0m] [0.015] RAN 3 CYCLES PASSED\n",
      "SUCCESS!!\n"
     ]
    },
    {
     "data": {
      "text/plain": [
       "defined \u001b[32mclass\u001b[39m \u001b[36mMyOperators\u001b[39m\n",
       "defined \u001b[32mclass\u001b[39m \u001b[36mMyOperatorsTester\u001b[39m"
      ]
     },
     "execution_count": 3,
     "metadata": {},
     "output_type": "execute_result"
    }
   ],
   "source": [
    "class MyOperators extends Module {\n",
    "  val io = IO(new Bundle {\n",
    "    val in      = Input(UInt(2.W))\n",
    "    val out= Decoupled(Vec(3, UInt(2.W)))\n",
    "  })\n",
    "    val shiftReg = RegInit(VecInit(Seq.fill(3)(0.U(2.W))))\n",
    "    val sReg = RegInit(VecInit(Seq.fill(3)(0.U(1.W)))) // initialze memory with all zeros\n",
    "    val outValReg = RegInit(0.U(1.W))\n",
    "    val cnt = RegInit(0.U(3.W))\n",
    "    val one = 1.U(1.W)\n",
    "    \n",
    "    cnt := cnt + 1.U\n",
    "    when(cnt === 2.U){\n",
    "        shiftReg(0) := 1.U \n",
    "        for (n <- 1 to 2){\n",
    "            shiftReg(n) := 1.U\n",
    "        }   \n",
    "        shiftReg(0) := 2.U \n",
    "    }.otherwise{\n",
    "        shiftReg(0) := io.in\n",
    "        (1 to 2).reverse.map(i => {shiftReg(i) := shiftReg(i-1)})\n",
    "    }\n",
    "    \n",
    "    io.out.bits := shiftReg \n",
    "    io.out.valid := outValReg \n",
    "    \n",
    "}\n",
    "\n",
    "class MyOperatorsTester(c: MyOperators) extends PeekPokeTester(c) {\n",
    "  poke(c.io.in, 3)  //cnt == 0.U\n",
    "  step(1)  //cnt == 1 \n",
    "    expect(c.io.out.bits(0), 3)\n",
    "    expect(c.io.out.bits(1), 0)\n",
    "    expect(c.io.out.bits(2), 0)\n",
    "  step(1) //cnt == 2\n",
    "    expect(c.io.out.bits(0), 3)\n",
    "    expect(c.io.out.bits(1), 3)\n",
    "    expect(c.io.out.bits(2), 0)\n",
    "  step(1) // cnt == 3\n",
    "    expect(c.io.out.bits(0), 2)\n",
    "    expect(c.io.out.bits(1), 1)\n",
    "    expect(c.io.out.bits(2), 1)\n",
    "\n",
    "}\n",
    "assert(Driver(() => new MyOperators) {c => new MyOperatorsTester(c)})\n",
    "println(\"SUCCESS!!\")"
   ]
  },
  {
   "cell_type": "code",
   "execution_count": null,
   "metadata": {},
   "outputs": [],
   "source": []
  }
 ],
 "metadata": {
  "kernelspec": {
   "display_name": "Scala",
   "language": "scala",
   "name": "scala"
  },
  "language_info": {
   "codemirror_mode": "text/x-scala",
   "file_extension": ".scala",
   "mimetype": "text/x-scala",
   "name": "scala211",
   "nbconvert_exporter": "script",
   "pygments_lexer": "scala",
   "version": "2.11.11"
  }
 },
 "nbformat": 4,
 "nbformat_minor": 2
}
