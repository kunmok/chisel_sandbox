{
 "cells": [
  {
   "cell_type": "code",
   "execution_count": 1,
   "metadata": {},
   "outputs": [
    {
     "name": "stdout",
     "output_type": "stream",
     "text": [
      "Compiling Main.sc\n"
     ]
    },
    {
     "data": {
      "text/plain": [
       "\u001b[36mpath\u001b[39m: \u001b[32mString\u001b[39m = \u001b[32m\"/home/kunmok/Git/chisel-bootcamp/source/load-ivy.sc\"\u001b[39m"
      ]
     },
     "execution_count": 1,
     "metadata": {},
     "output_type": "execute_result"
    }
   ],
   "source": [
    "val path = System.getProperty(\"user.dir\") + \"/source/load-ivy.sc\"\n",
    "interp.load.module(ammonite.ops.Path(java.nio.file.FileSystems.getDefault().getPath(path)))"
   ]
  },
  {
   "cell_type": "code",
   "execution_count": 2,
   "metadata": {},
   "outputs": [
    {
     "data": {
      "text/plain": [
       "\u001b[32mimport \u001b[39m\u001b[36mchisel3._\n",
       "\u001b[39m\n",
       "\u001b[32mimport \u001b[39m\u001b[36mchisel3.util._\n",
       "\u001b[39m\n",
       "\u001b[32mimport \u001b[39m\u001b[36mchisel3.iotesters.{ChiselFlatSpec, Driver, PeekPokeTester}\u001b[39m"
      ]
     },
     "execution_count": 2,
     "metadata": {},
     "output_type": "execute_result"
    }
   ],
   "source": [
    "import chisel3._\n",
    "import chisel3.util._\n",
    "import chisel3.iotesters.{ChiselFlatSpec, Driver, PeekPokeTester}"
   ]
  },
  {
   "cell_type": "code",
   "execution_count": 110,
   "metadata": {},
   "outputs": [
    {
     "name": "stdout",
     "output_type": "stream",
     "text": [
      "[\u001b[35minfo\u001b[0m] [0.000] Elaborating design...\n",
      "[\u001b[35minfo\u001b[0m] [0.005] Done elaborating.\n",
      "Total FIRRTL Compile Time: 5.3 ms\n",
      "Total FIRRTL Compile Time: 4.9 ms\n",
      "End of dependency graph\n",
      "Circuit state created\n",
      "[\u001b[35minfo\u001b[0m] [0.000] SEED 1540720459239\n",
      "test cmd109WrapperHelperMyOperators Success: 3 tests passed in 5 cycles taking 0.003010 seconds\n",
      "[\u001b[35minfo\u001b[0m] [0.001] RAN 0 CYCLES PASSED\n",
      "SUCCESS!!\n"
     ]
    },
    {
     "data": {
      "text/plain": [
       "defined \u001b[32mclass\u001b[39m \u001b[36mMyOperators\u001b[39m\n",
       "defined \u001b[32mclass\u001b[39m \u001b[36mMyOperatorsTester\u001b[39m"
      ]
     },
     "execution_count": 110,
     "metadata": {},
     "output_type": "execute_result"
    }
   ],
   "source": [
    "class MyOperators extends Module {\n",
    "  val io = IO(new Bundle {\n",
    "    val in      = Input(UInt(2.W))\n",
    "    val in2     = Input(UInt(3.W))\n",
    "    val in3     = Input(SInt(1.W))\n",
    "    val out_tmp1= Output(UInt(2.W))\n",
    "    val out_tmp2= Output(UInt(log2Ceil(5).W))\n",
    "    val out_tmp3= Output(SInt(1.W))\n",
    "  })\n",
    "\n",
    "  io.out_tmp1 := io.in + 2.U \n",
    "  io.out_tmp2 := io.in2 + 2.U\n",
    "  io.out_tmp3 := io.in3 \n",
    "  // (3+1 -> 4 -> 0, 3+2 -> 5 -> 1)\n",
    "}\n",
    "\n",
    "class MyOperatorsTester(c: MyOperators) extends PeekPokeTester(c) {\n",
    "  poke(c.io.in, 3)\n",
    "  expect(c.io.out_tmp1, 1)\n",
    "  poke(c.io.in2, 3)\n",
    "  expect(c.io.out_tmp2, 5)\n",
    "  poke(c.io.in3, -1)\n",
    "  expect(c.io.out_tmp3, -1)\n",
    "\n",
    "}\n",
    "assert(Driver(() => new MyOperators) {c => new MyOperatorsTester(c)})\n",
    "println(\"SUCCESS!!\")"
   ]
  },
  {
   "cell_type": "code",
   "execution_count": 51,
   "metadata": {},
   "outputs": [
    {
     "name": "stdout",
     "output_type": "stream",
     "text": [
      "1\n"
     ]
    },
    {
     "data": {
      "text/plain": [
       "defined \u001b[32mfunction\u001b[39m \u001b[36mdec2bitarray\u001b[39m\n",
       "defined \u001b[32mfunction\u001b[39m \u001b[36mfindMinBitWidth\u001b[39m\n",
       "defined \u001b[32mfunction\u001b[39m \u001b[36monesInPuncMat\u001b[39m\n",
       "\u001b[36mbinary_string\u001b[39m: (\u001b[32mInt\u001b[39m, \u001b[32mList\u001b[39m[\u001b[32mInt\u001b[39m]) => \u001b[32mString\u001b[39m = <function2>"
      ]
     },
     "execution_count": 51,
     "metadata": {},
     "output_type": "execute_result"
    }
   ],
   "source": [
    "  def dec2bitarray(genPolynoimial: List[Int], bit_width: Int) = {\n",
    "    val numRow = genPolynoimial.length\n",
    "    val bitarray = Array.ofDim[Int](numRow, bit_width)\n",
    "//     val binary_string = (i: Int) => {genPolynoimial(i).toBinaryString}\n",
    "    for (i <- 0 until numRow){\n",
    "      val binary_string = genPolynoimial(i).toBinaryString\n",
    "      val len = binary_string.length\n",
    "      for (j <- 0 until bit_width){\n",
    "        bitarray(i)(bit_width-j-1) = binary_string(len-j-1).asDigit\n",
    "      }\n",
    "    }\n",
    "    bitarray\n",
    "  }\n",
    "\n",
    "  def findMinBitWidth(arg: List[Int]): Int = {\n",
    "    val result: Int = math.ceil(math.log10(arg.max)/math.log10(2)).asInstanceOf[Int]\n",
    "    result\n",
    "  }\n",
    "\n",
    "  def onesInPuncMat(arg: Array[Array[Int]]): Unit ={\n",
    "    arg.map(breeze.linalg.Vector(_)).reduce(_ + _)\n",
    "  }\n",
    "\n",
    "val binary_string = (x: Int, arg: List[Int]) => { arg(x).toBinaryString }\n",
    "\n",
    "println(binary_string(0, List(1,1,0)))"
   ]
  },
  {
   "cell_type": "code",
   "execution_count": 40,
   "metadata": {},
   "outputs": [
    {
     "name": "stdout",
     "output_type": "stream",
     "text": [
      "[\u001b[35minfo\u001b[0m] [0.000] Elaborating design...\n",
      "[\u001b[35minfo\u001b[0m] [0.085] Done elaborating.\n",
      "Total FIRRTL Compile Time: 19.6 ms\n",
      "Total FIRRTL Compile Time: 17.0 ms\n",
      "End of dependency graph\n",
      "Circuit state created\n",
      "[\u001b[35minfo\u001b[0m] [0.000] SEED 1540710168070\n",
      "test cmd39WrapperHelperMyOperators2 Success: 6 tests passed in 5 cycles taking 0.006581 seconds\n",
      "[\u001b[35minfo\u001b[0m] [0.005] RAN 0 CYCLES PASSED\n",
      "SUCCESS!!\n"
     ]
    },
    {
     "data": {
      "text/plain": [
       "defined \u001b[32mclass\u001b[39m \u001b[36mMyOperators2\u001b[39m\n",
       "defined \u001b[32mclass\u001b[39m \u001b[36mMyOperatorsTester2\u001b[39m"
      ]
     },
     "execution_count": 40,
     "metadata": {},
     "output_type": "execute_result"
    }
   ],
   "source": [
    "class MyOperators2 extends Module {\n",
    "  val io = IO(new Bundle {\n",
    "    val in      = Input(UInt(2.W))\n",
    "    val out_tmp1= Output(UInt(2.W))\n",
    "    val out_arr = Output(Vec(2, Vec(3, UInt(1.W))))\n",
    "  })\n",
    "\n",
    "    io.out_tmp1 := io.in + 2.U \n",
    "    val genPolynomial = List(7, 5)\n",
    "    val K = 3\n",
    "    val n = 2 \n",
    "    val genPolyList       = dec2bitarray(genPolynomial, K)\n",
    "    val genPolyVec        = Wire(Vec(n, Vec(K, UInt(1.W))))\n",
    "\n",
    "    for (x <- 0 until n){ \n",
    "      for (y <- 0 until K){\n",
    "        genPolyVec(x)(y) := (genPolyList(x)(y)).U \n",
    "      }\n",
    "    }\n",
    "    \n",
    "//     (0 until n).map(x => {\n",
    "//     (0 until K).map(y => {\n",
    "//       genPolyVec(x)(y)  := (genPolyList(x)(y)).U\n",
    "//       })\n",
    "//     })\n",
    "    for (x <- 0 until n){\n",
    "        for (y <- 0 until K){\n",
    "            io.out_arr(x)(y) := genPolyVec(x)(y)\n",
    "        }\n",
    "    }\n",
    "}\n",
    "\n",
    "class MyOperatorsTester2(c: MyOperators2) extends PeekPokeTester(c) {\n",
    "  poke(c.io.in, 3)\n",
    "  expect(c.io.out_arr(0)(0), 1)\n",
    "    expect(c.io.out_arr(0)(1), 1)\n",
    "    expect(c.io.out_arr(0)(2), 1)\n",
    "    expect(c.io.out_arr(1)(0), 1)\n",
    "    expect(c.io.out_arr(1)(1), 0)\n",
    "    expect(c.io.out_arr(1)(2), 1)\n",
    "}\n",
    "assert(Driver(() => new MyOperators2) {c => new MyOperatorsTester2(c)})\n",
    "println(\"SUCCESS!!\")"
   ]
  },
  {
   "cell_type": "code",
   "execution_count": 89,
   "metadata": {},
   "outputs": [
    {
     "name": "stdout",
     "output_type": "stream",
     "text": [
      "[\u001b[35minfo\u001b[0m] [0.000] Elaborating design...\n",
      "[\u001b[35minfo\u001b[0m] [0.005] Done elaborating.\n",
      "Total FIRRTL Compile Time: 5.4 ms\n",
      "Total FIRRTL Compile Time: 5.5 ms\n",
      "End of dependency graph\n",
      "Circuit state created\n",
      "[\u001b[35minfo\u001b[0m] [0.000] SEED 1540717781515\n",
      "test cmd88WrapperHelperMyOperators3 Success: 12 tests passed in 11 cycles taking 0.003361 seconds\n",
      "[\u001b[35minfo\u001b[0m] [0.003] RAN 6 CYCLES PASSED\n",
      "SUCCESS!!\n"
     ]
    },
    {
     "data": {
      "text/plain": [
       "defined \u001b[32mclass\u001b[39m \u001b[36mMyOperators3\u001b[39m\n",
       "defined \u001b[32mclass\u001b[39m \u001b[36mMyOperatorsTester3\u001b[39m"
      ]
     },
     "execution_count": 89,
     "metadata": {},
     "output_type": "execute_result"
    }
   ],
   "source": [
    "class MyOperators3 extends Module {\n",
    "  val io = IO(new Bundle {\n",
    "    val in      = Input(UInt(1.W))\n",
    "    val out     = Output(Vec(3, UInt(1.W)))\n",
    "    val erase   = Input(UInt(1.W))\n",
    "  })\n",
    "\n",
    "    val K = 3\n",
    "    val n = 2 \n",
    "    val m = 2 \n",
    "    \n",
    "    val shiftReg          = RegInit(VecInit(Seq.fill(K)(0.U(1.W)))) // initialze memory with all zeros\n",
    "    val wireGND = Wire(Vec(K, UInt(1.W)))\n",
    "    wireGND := VecInit(Seq.fill(K)(0.U(1.W)))\n",
    "//     (0 to m).map(i => {wireGND(i) := 0.U})    // this also works \n",
    "    shiftReg(0) := io.in                         // receive input from FIFO. I probably need to use MUX\n",
    "    (1 to m).reverse.map(i => {shiftReg(i) := shiftReg(i-1)})\n",
    "    when(io.erase === 1.U){\n",
    "//         shiftReg := VecInit(Seq.fill(K)(0.U(1.W)))\n",
    "//         (0 to m).map(i => {shiftReg(i) := 0.U})\n",
    "        shiftReg := wireGND\n",
    "    }\n",
    "    io.out := shiftReg \n",
    "    \n",
    "}\n",
    "\n",
    "class MyOperatorsTester3(c: MyOperators3) extends PeekPokeTester(c) {\n",
    "    poke(c.io.in, 1)\n",
    "    poke(c.io.erase, 0)\n",
    "    step(1) \n",
    "    expect(c.io.out(0), 1)\n",
    "    expect(c.io.out(1), 0)\n",
    "    expect(c.io.out(2), 0)\n",
    "    step(1)\n",
    "    expect(c.io.out(0), 1)\n",
    "    expect(c.io.out(1), 1)\n",
    "    expect(c.io.out(2), 0)\n",
    "    step(1)\n",
    "    expect(c.io.out(0), 1)\n",
    "    expect(c.io.out(1), 1)\n",
    "    expect(c.io.out(2), 1)\n",
    "    step(1)\n",
    "    poke(c.io.erase, 1)\n",
    "    step(1)\n",
    "    step(1)\n",
    "    expect(c.io.out(0), 0)\n",
    "    expect(c.io.out(1), 0)\n",
    "    expect(c.io.out(2), 0)\n",
    "}\n",
    "assert(Driver(() => new MyOperators3) {c => new MyOperatorsTester3(c)})\n",
    "println(\"SUCCESS!!\")"
   ]
  },
  {
   "cell_type": "code",
   "execution_count": null,
   "metadata": {},
   "outputs": [],
   "source": []
  }
 ],
 "metadata": {
  "kernelspec": {
   "display_name": "Scala",
   "language": "scala",
   "name": "scala"
  },
  "language_info": {
   "codemirror_mode": "text/x-scala",
   "file_extension": ".scala",
   "mimetype": "text/x-scala",
   "name": "scala211",
   "nbconvert_exporter": "script",
   "pygments_lexer": "scala",
   "version": "2.11.11"
  }
 },
 "nbformat": 4,
 "nbformat_minor": 2
}
