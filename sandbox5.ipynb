{
 "cells": [
  {
   "cell_type": "code",
   "execution_count": 75,
   "metadata": {},
   "outputs": [
    {
     "name": "stdout",
     "output_type": "stream",
     "text": [
      "Compiling Main.sc\n"
     ]
    },
    {
     "data": {
      "text/plain": [
       "\u001b[36mpath\u001b[39m: \u001b[32mString\u001b[39m = \u001b[32m\"/home/kunmok/Git/chisel-bootcamp/source/load-ivy.sc\"\u001b[39m"
      ]
     },
     "execution_count": 75,
     "metadata": {},
     "output_type": "execute_result"
    }
   ],
   "source": [
    "val path = System.getProperty(\"user.dir\") + \"/source/load-ivy.sc\"\n",
    "interp.load.module(ammonite.ops.Path(java.nio.file.FileSystems.getDefault().getPath(path)))"
   ]
  },
  {
   "cell_type": "code",
   "execution_count": 63,
   "metadata": {},
   "outputs": [
    {
     "data": {
      "text/plain": [
       "\u001b[32mimport \u001b[39m\u001b[36mchisel3._\n",
       "\u001b[39m\n",
       "\u001b[32mimport \u001b[39m\u001b[36mchisel3.util._\n",
       "\u001b[39m\n",
       "\u001b[32mimport \u001b[39m\u001b[36mchisel3.iotesters.{ChiselFlatSpec, Driver, PeekPokeTester}\u001b[39m"
      ]
     },
     "execution_count": 63,
     "metadata": {},
     "output_type": "execute_result"
    }
   ],
   "source": [
    "import chisel3._\n",
    "import chisel3.util._\n",
    "import chisel3.iotesters.{ChiselFlatSpec, Driver, PeekPokeTester}"
   ]
  },
  {
   "cell_type": "code",
   "execution_count": 74,
   "metadata": {
    "scrolled": true
   },
   "outputs": [
    {
     "name": "stdout",
     "output_type": "stream",
     "text": [
      "[\u001b[35minfo\u001b[0m] [0.000] Elaborating design...\n",
      "3\n",
      "List(1, 1, 0)\n",
      "List(1, 0, 1)\n",
      "DenseVector(2, 1, 1)\n",
      "List(1, 1, 0)\n",
      "List(2, 1, 1)\n",
      "[\u001b[35minfo\u001b[0m] [0.018] Done elaborating.\n",
      "Total FIRRTL Compile Time: 35.9 ms\n",
      "Total FIRRTL Compile Time: 36.2 ms\n",
      "End of dependency graph\n",
      "Circuit state created\n",
      "[\u001b[35minfo\u001b[0m] [0.000] SEED 1541007290462\n",
      "test cmd73WrapperHelperMyOperators Success: 12 tests passed in 13 cycles taking 0.015893 seconds\n",
      "[\u001b[35minfo\u001b[0m] [0.013] RAN 8 CYCLES PASSED\n",
      "SUCCESS!!\n"
     ]
    },
    {
     "data": {
      "text/plain": [
       "\u001b[32mimport \u001b[39m\u001b[36mbreeze.numerics.{atan, pow, sqrt}\n",
       "\u001b[39m\n",
       "defined \u001b[32mclass\u001b[39m \u001b[36mMyOperators\u001b[39m\n",
       "defined \u001b[32mclass\u001b[39m \u001b[36mMyOperatorsTester\u001b[39m"
      ]
     },
     "execution_count": 74,
     "metadata": {},
     "output_type": "execute_result"
    }
   ],
   "source": [
    "import breeze.numerics.{atan, pow, sqrt}\n",
    "class MyOperators extends Module {\n",
    "  val io = IO(new Bundle {\n",
    "    val in1     = Input(UInt(3.W))\n",
    "    val in2     = Input(UInt(3.W))\n",
    "    val out     = Output(Vec(6, UInt(3.W)))\n",
    "    val out1    = Output(UInt(log2Ceil(6).W))\n",
    "//     val out1    = Output(Vec(3, UInt(log2Ceil(6).W)))\n",
    "//     val out2    = Output(Vec(3, Vec(2, UInt(1.W))))\n",
    "  })\n",
    "   \n",
    "  def dec2bitarray(genPolynoimial: List[Int], bit_width: Int) = {\n",
    "    val numRow = genPolynoimial.length\n",
    "    val bitarray = Array.ofDim[Int](numRow, bit_width)\n",
    "    for (i <- 0 until numRow){\n",
    "      val binary_string = genPolynoimial(i).toBinaryString\n",
    "      val len = binary_string.length\n",
    "      for (j <- 0 until bit_width){\n",
    "        bitarray(i)(bit_width-j-1) = binary_string(len-j-1).asDigit\n",
    "      }\n",
    "    }\n",
    "    bitarray\n",
    "  }\n",
    "\n",
    "  def findMinBitWidth(arg: List[Int]): Int = {\n",
    "    val result: Int = math.ceil(math.log10(arg.max)/math.log10(2)).asInstanceOf[Int]\n",
    "    result\n",
    "  }\n",
    "\n",
    "  def onesInPuncMat(arg: Array[Array[Int]]): Unit ={\n",
    "    arg.map(breeze.linalg.Vector(_)).reduce(_ + _)\n",
    "  }  \n",
    "//     val shiftReg = RegInit(Vec(Seq.fill(params.K)(0.U(1.W))))\n",
    "    val n = 2\n",
    "    val O = 6 \n",
    "    val K = 3 \n",
    "    val m = K - 1\n",
    "    \n",
    "    val punctureMatrix = List(6,5)\n",
    "    val puncMatBitWidth   = findMinBitWidth(punctureMatrix)\n",
    "    println(puncMatBitWidth)\n",
    "    val punctureList      = dec2bitarray(punctureMatrix, puncMatBitWidth)\n",
    "    println(punctureList(0).toList)\n",
    "    println(punctureList(1).toList)\n",
    "    val punctureVec       = Wire(Vec(n, Vec(puncMatBitWidth, UInt(1.W))))\n",
    "    (0 until n).map(i => {\n",
    "      (0 until puncMatBitWidth).map(j => {\n",
    "        punctureVec(i)(j) := (punctureList(i)(j)).U\n",
    "      })\n",
    "    })\n",
    "    val puncListColSum   = punctureList.map(breeze.linalg.Vector(_)).reduce(_ + _)\n",
    "    println(puncListColSum)\n",
    "    val puncPolyWire = Wire(Vec(puncMatBitWidth, UInt((log2Ceil(n+1)).W)))\n",
    "    (0 until puncMatBitWidth).map(i => { puncPolyWire(i) := puncListColSum(i).U })\n",
    "    val puncIndices = punctureList.scanLeft(Array.fill(punctureList(0).length)(0)) ((x,y) =>\n",
    "    x.zip(y).map(e => e._1 + e._2)).drop(1)\n",
    "    println(puncIndices(0).toList)\n",
    "    println(puncIndices(1).toList)\n",
    "  // convert this to chisel-usable variable using vector of wires\n",
    "    val puncIndicesWire = Wire(Vec(n, Vec(puncMatBitWidth, UInt(1.W))))\n",
    "    (0 until n).map(i => {\n",
    "      (0 until puncMatBitWidth).map(j => {\n",
    "        puncIndicesWire(i)(j) := puncIndices(i)(j).U\n",
    "      })\n",
    "    })\n",
    "    val o_cnt             = RegInit(0.U(log2Ceil(O).W))  // counter for data vector tracker\n",
    "    val p_cnt             = RegInit(0.U(log2Ceil(O).W))  // counter for outReg tracker\n",
    "    val sStartRecv  = 0.U(1.W)        // start taking input bits\n",
    "    val sDone        = 1.U(1.W)\n",
    "    val state = RegInit(0.U(1.W))\n",
    "    val bufInterleaver             = RegInit(VecInit(Seq.fill(O)(0.U(3.W))))  // buffer for interleaver\n",
    "    val AXWires           = Wire(Vec(n, Vec(K, UInt(3.W))))\n",
    "    AXWires(0)(0) := 1.U\n",
    "    AXWires(0)(1) := 1.U\n",
    "    AXWires(0)(2) := io.in1\n",
    "    AXWires(1)(0) := 1.U\n",
    "    AXWires(1)(1) := 1.U\n",
    "    AXWires(1)(2) := io.in2\n",
    "    \n",
    "    // start puncturing \n",
    "    for (i <- 0 until n) {\n",
    "      when(punctureVec((o_cnt+i.U) % n.U)((o_cnt / n.U) % (puncMatBitWidth.U)) === 1.U) {\n",
    "bufInterleaver(p_cnt - 1.U + puncIndicesWire((o_cnt+i.U) % n.U)(((o_cnt+i.U) / n.U) % (puncMatBitWidth.U))) := AXWires((o_cnt + i.U) % n.U)(m.U)\n",
    "      }\n",
    "    }\n",
    "    p_cnt := p_cnt + puncPolyWire((o_cnt/(n.U)) % puncMatBitWidth.U)\n",
    "    o_cnt := o_cnt + (n).U\n",
    "\n",
    "    io.out := bufInterleaver\n",
    "//     io.out1 := puncPolyWire\n",
    "    io.out1 := p_cnt \n",
    "    \n",
    "}\n",
    "\n",
    "class MyOperatorsTester(c: MyOperators) extends PeekPokeTester(c) {\n",
    "  poke(c.io.in1, 3)  //cnt == 0.U\n",
    "  poke(c.io.in2, 1)\n",
    "//   // expect 0,0,0,0,0,0\n",
    "//   // right \n",
    "  expect(c.io.out(0), 0)\n",
    "  expect(c.io.out(1), 0)\n",
    "  expect(c.io.out(2), 0)\n",
    "  expect(c.io.out(3), 0)\n",
    "  expect(c.io.out(4), 0)\n",
    "  expect(c.io.out(5), 0)\n",
    "  expect(c.io.out1, 0)\n",
    "    \n",
    "//   // expect 1,1,0,0,0,0\n",
    "  step(1)  //cnt == 1\n",
    "//   expect(c.io.out(0), 3)\n",
    "//   expect(c.io.out(1), 1) \n",
    "//   expect(c.io.out(2), 0)\n",
    "//   expect(c.io.out(3), 0)\n",
    "//   expect(c.io.out(4), 0)\n",
    "//   expect(c.io.out(5), 0)\n",
    "  expect(c.io.out1, 2)\n",
    "    \n",
    "//   // expect 1,1,1,0,0,0\n",
    "  step(1)  // wrong \n",
    "//   expect(c.io.out(0), 3)\n",
    "//   expect(c.io.out(1), 1)\n",
    "//   expect(c.io.out(2), 3)\n",
    "//   expect(c.io.out(3), 0)\n",
    "//   expect(c.io.out(4), 0)\n",
    "//   expect(c.io.out(5), 0)\n",
    "  expect(c.io.out1, 3)\n",
    "    step(1)\n",
    "    expect(c.io.out1, 4)\n",
    "    step(1)\n",
    "    expect(c.io.out1, 6)\n",
    "    step(4)\n",
    "    expect(c.io.out1, 4)\n",
    "//     step(1)\n",
    "//     expect(c.io.out1, 8)\n",
    "// //   // expect 1,1,1,0,0,1\n",
    "//   step(1)\n",
    "//   expect(c.io.out(0), 3)\n",
    "//   expect(c.io.out(1), 1)\n",
    "//   expect(c.io.out(2), 3)\n",
    "//   expect(c.io.out(3), 1)\n",
    "//   expect(c.io.out(4), 0)\n",
    "//   expect(c.io.out(5), 0)\n",
    "    \n",
    "}\n",
    "assert(Driver(() => new MyOperators) {c => new MyOperatorsTester(c)})\n",
    "println(\"SUCCESS!!\")"
   ]
  },
  {
   "cell_type": "code",
   "execution_count": null,
   "metadata": {},
   "outputs": [],
   "source": []
  },
  {
   "cell_type": "code",
   "execution_count": null,
   "metadata": {},
   "outputs": [],
   "source": []
  }
 ],
 "metadata": {
  "kernelspec": {
   "display_name": "Scala",
   "language": "scala",
   "name": "scala"
  },
  "language_info": {
   "codemirror_mode": "text/x-scala",
   "file_extension": ".scala",
   "mimetype": "text/x-scala",
   "name": "scala211",
   "nbconvert_exporter": "script",
   "pygments_lexer": "scala",
   "version": "2.11.11"
  }
 },
 "nbformat": 4,
 "nbformat_minor": 2
}
